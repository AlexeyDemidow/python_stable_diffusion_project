{
 "cells": [
  {
   "cell_type": "code",
   "execution_count": 225,
   "metadata": {
    "collapsed": true,
    "pycharm": {
     "name": "#%%\n"
    }
   },
   "outputs": [],
   "source": [
    "import json\n",
    "import requests\n",
    "import io\n",
    "import base64\n",
    "from PIL import Image, PngImagePlugin, ImageDraw\n",
    "import os\n",
    "from datetime import datetime\n"
   ]
  },
  {
   "cell_type": "code",
   "execution_count": 183,
   "outputs": [],
   "source": [
    "os.startfile('webui-user.lnk')\n",
    "# os.startfile('webui-user.bat')"
   ],
   "metadata": {
    "collapsed": false,
    "pycharm": {
     "name": "#%%\n"
    }
   }
  },
  {
   "cell_type": "code",
   "execution_count": 184,
   "outputs": [],
   "source": [
    "masks_directory = 'masks/'\n",
    "result_photos_directory = 'images/'\n",
    "source_photos_directory = 'source/'\n",
    "\n",
    "if not os.path.exists(masks_directory):\n",
    "    os.makedirs(masks_directory)\n",
    "\n",
    "if not os.path.exists(result_photos_directory):\n",
    "    os.makedirs(result_photos_directory)\n",
    "\n",
    "if not os.path.exists(source_photos_directory):\n",
    "    os.makedirs(source_photos_directory)"
   ],
   "metadata": {
    "collapsed": false,
    "pycharm": {
     "name": "#%%\n"
    }
   }
  },
  {
   "cell_type": "code",
   "execution_count": 185,
   "outputs": [],
   "source": [
    "def toB64(imgPath):\n",
    "    with open(imgPath, \"rb\") as imageFile:\n",
    "        return base64.b64encode(imageFile.read()).decode(\"utf-8\")"
   ],
   "metadata": {
    "collapsed": false,
    "pycharm": {
     "name": "#%%\n"
    }
   }
  },
  {
   "cell_type": "code",
   "execution_count": 186,
   "outputs": [],
   "source": [
    "photo_path = source_photos_directory + 'photo_front.jpg'\n",
    "img = toB64(photo_path)"
   ],
   "metadata": {
    "collapsed": false,
    "pycharm": {
     "name": "#%%\n"
    }
   }
  },
  {
   "cell_type": "code",
   "execution_count": 265,
   "outputs": [],
   "source": [
    "with Image.open(photo_path) as mask_img:\n",
    "    mask_img.load()\n",
    "    draw = ImageDraw.Draw(mask_img)\n",
    "    draw.rectangle((0, mask_img.size[1] - 550, mask_img.size[0], mask_img.size[1]), fill=(255, 255, 255))\n",
    "    mask_img = mask_img.convert('L')\n",
    "    mask_img = mask_img.point(lambda x: 255 if x > 254 else 0)\n",
    "    mask_img = mask_img.convert('RGBA')\n",
    "\n",
    "    pixels = mask_img.load()  # create the pixel map\n",
    "\n",
    "    for i in range(mask_img.size[0]):  # for every pixel:\n",
    "        for j in range(mask_img.size[1]):\n",
    "            if pixels[i, j] == (0, 0, 0, 255):\n",
    "                pixels[i, j] = (0, 0, 0, 0)\n",
    "            # if pixels[i, j] == (255, 255, 255, 255):\n",
    "            #     pixels[i, j] = (255, 255, 255, 77)\n",
    "\n",
    "    mask_img.save(masks_directory + 'mask.png')"
   ],
   "metadata": {
    "collapsed": false,
    "pycharm": {
     "name": "#%%\n"
    }
   }
  },
  {
   "cell_type": "code",
   "execution_count": 266,
   "outputs": [],
   "source": [
    "mask_path = masks_directory + 'mask.png'\n",
    "mask = toB64(mask_path)"
   ],
   "metadata": {
    "collapsed": false,
    "pycharm": {
     "name": "#%%\n"
    }
   }
  },
  {
   "cell_type": "code",
   "execution_count": 270,
   "outputs": [],
   "source": [
    "url = \"http://127.0.0.1:7860\"\n",
    "\n",
    "payload_img2img = {\n",
    "    \"prompt\": \"black business suit\",  # Текстовая строка, описывающая изображение, которое вы хотите создать\n",
    "\n",
    "    \"negative_prompt\": 'red color',  # Текстовое описание того, что вы не хотите видеть на изображении.\n",
    "\n",
    "    \"steps\": 50,  # Количество шагов шумоподавления, используемых моделью ИИ при создании изображения из текстовой подсказки. Более высокое значение приводит к увеличению времени генерации и не обязательно гарантирует более высокое качество изображения.\n",
    "\n",
    "    'sampler_name': 'DPM++ 2M SDE Karras',  #\n",
    "    # 'sampler_name': 'Euler',  # Имя метода сэмплера, который будет использоваться для создания изображения. Вывод изображения немного отличается в зависимости от метода.\n",
    "\n",
    "    'include_init_images': False,  # Установите значение true, если вы планируете включить начальные изображения в полезные данные или если вы хотите выполнить рисование на изображении.\n",
    "\n",
    "    \"init_images\": [img],  # Список изображений в кодировке base64, которые будут использоваться для генерации\n",
    "\n",
    "    \"width\": 512,  # Ширина изображения, которое вы хотите создать.\n",
    "\n",
    "    \"height\": 512,  # Высота изображения, которое требуется создать.\n",
    "\n",
    "    'inpainting_mask_invert': 0,  # Определяет, требуется ли закрашивать маскируемый объект или снаружи маскируемого объекта. 0 закрасит замаскированный объект. 1 закрашивает область за пределами маскируемого объекта. Этот параметр необходим для закрашивания.\n",
    "\n",
    "    'inpainting_fill': 0,  # Определяет, как должно отображаться замаскированное содержимое. Это может быть 0, 1, 2 или 3. 0 -> \"заливка\" 1 -> \"исходный\" 2 -> \"скрытый шум\" 3 -> \"скрытое ничего\"\n",
    "\n",
    "    'resize_mode': 0,  # Это может быть 0, 1, 2 или 3. 0 -> \"просто изменить размер\" 1 -> \"обрезать и изменить размер\" 2 -> \"изменить размер\" 3 -> \"заливка\"\n",
    "\n",
    "    \"inpaint_full_res_padding\": 32,  # Заполнение вокруг замаскированного объекта для закрашивания в полном разрешении Этот параметр необходим для закрашивания.\n",
    "\n",
    "    \"inpaint_full_res\": True,  # Относится к области закрашивания. Оно может быть как истинным, так и ложным. Если установлено значение true, область закрашивания будет иметь то же разрешение, что и исходное изображение. Если установлено значение false, область закрашивания будет растягиваться в соответствии с начальным изображением. Этот параметр необходим для закрашивания.\n",
    "\n",
    "    # 'image_cfg_scale': 4,  # \tОпределяет, насколько результат похож на исходное изображение, поэтому более низкое значение означает более сильный эффект. Это полная противоположность cfg_scale.\n",
    "\n",
    "    'cfg_scale': 7,  # Определяет, насколько точно он следует запросу. 7 или 7,5 обычно работает лучше всего. Вы можете увеличить значение, если сгенерированное изображение не соответствует вашему запросу.Низкие числа (0-6): вы сообщаете SD, что она может игнорировать ваше приглашение. Средний диапазон (6-10 баллов): вы говорите SD, что хотели бы, чтобы он делал то, о чем вы просите, но вы не возражаете против небольшого разнообразия.Высокие цифры (10+): мы обнаружили, что высокое количество cfg часто приводит к очень плохому изображению.\n",
    "\n",
    "    'denoising_strength': 0.8,  # Определяет, насколько близко сгенерированное изображение будет к предоставленному. Чем ближе он к 0, тем ближе он будет к предоставленному изображению.\n",
    "\n",
    "    'mask': mask,  # Изображение в кодировке Base64, которое будет использоваться для закрашивания. Необходимо указать область исходного изображения, которую вы хотите изменить.\n",
    "\n",
    "    'mask_blur_x': 4, 'mask_blur_y': 4, 'mask_blur': 14,  #\n",
    "\n",
    "}\n",
    "\n",
    "sett = {\n",
    "    'sd_model_checkpoint': 'Deliberate_v5-inpainting.safetensors [ab70e869ff]',\n",
    "}"
   ],
   "metadata": {
    "collapsed": false,
    "pycharm": {
     "name": "#%%\n"
    }
   }
  },
  {
   "cell_type": "code",
   "execution_count": 272,
   "outputs": [
    {
     "name": "stdout",
     "output_type": "stream",
     "text": [
      "{'prompt': 'black business suit', 'negative_prompt': 'red color', 'styles': None, 'seed': -1, 'subseed': -1, 'subseed_strength': 0, 'seed_resize_from_h': -1, 'seed_resize_from_w': -1, 'sampler_name': 'DPM++ 2M SDE Karras', 'batch_size': 1, 'n_iter': 1, 'steps': 50, 'cfg_scale': 7.0, 'width': 512, 'height': 512, 'restore_faces': None, 'tiling': None, 'do_not_save_samples': False, 'do_not_save_grid': False, 'eta': None, 'denoising_strength': 0.8, 's_min_uncond': None, 's_churn': None, 's_tmax': None, 's_tmin': None, 's_noise': None, 'override_settings': None, 'override_settings_restore_afterwards': True, 'refiner_checkpoint': None, 'refiner_switch_at': None, 'disable_extra_networks': False, 'comments': None, 'init_images': None, 'resize_mode': 0, 'image_cfg_scale': None, 'mask': None, 'mask_blur_x': 4, 'mask_blur_y': 4, 'mask_blur': 14, 'inpainting_fill': 0, 'inpaint_full_res': True, 'inpaint_full_res_padding': 32, 'inpainting_mask_invert': 0, 'initial_noise_multiplier': None, 'latent_mask': None, 'sampler_index': 'Euler', 'include_init_images': False, 'script_name': None, 'script_args': [], 'send_images': True, 'save_images': False, 'alwayson_scripts': {}}\n"
     ]
    }
   ],
   "source": [
    "time_key = datetime.now().strftime('%Y-%m-%d_%H-%M-%S')\n",
    "\n",
    "settings = requests.post(url=f'{url}/sdapi/v1/options', json=sett)\n",
    "response_img2img = requests.post(url=f'{url}/sdapi/v1/img2img', json=payload_img2img)\n",
    "\n",
    "r_img2img = response_img2img.json()\n",
    "print(r_img2img['parameters'])\n",
    "\n",
    "for i in r_img2img['images']:\n",
    "    image = Image.open(io.BytesIO(base64.b64decode(i.split(\",\", 1)[0])))\n",
    "\n",
    "    png_payload = {\n",
    "        \"image\": \"data:image/png;base64,\" + i\n",
    "    }\n",
    "    response2 = requests.post(url=f'{url}/sdapi/v1/png-info', json=png_payload)\n",
    "\n",
    "    pnginfo = PngImagePlugin.PngInfo()\n",
    "    pnginfo.add_text(\"parameters\", response2.json().get(\"info\"))\n",
    "\n",
    "    image.save(f\"{result_photos_directory}{'_'.join(payload_img2img['prompt'].split(' '))}_output_{time_key}.png\", pnginfo=pnginfo)\n"
   ],
   "metadata": {
    "collapsed": false,
    "pycharm": {
     "name": "#%%\n"
    }
   }
  },
  {
   "cell_type": "code",
   "execution_count": null,
   "outputs": [],
   "source": [
    "[ссылке](https://www.itshneg.com/kak-ustanovit-stable-diffusion-poshagovaya-instrukciya/?utm_referrer=https%3A%2F%2Fyandex.by%2F)"
   ],
   "metadata": {
    "collapsed": false,
    "pycharm": {
     "name": "#%%\n"
    }
   }
  },
  {
   "cell_type": "code",
   "execution_count": 263,
   "outputs": [],
   "source": [],
   "metadata": {
    "collapsed": false,
    "pycharm": {
     "name": "#%%\n"
    }
   }
  },
  {
   "cell_type": "code",
   "execution_count": null,
   "outputs": [],
   "source": [],
   "metadata": {
    "collapsed": false,
    "pycharm": {
     "name": "#%%\n"
    }
   }
  }
 ],
 "metadata": {
  "kernelspec": {
   "display_name": "Python 3",
   "language": "python",
   "name": "python3"
  },
  "language_info": {
   "codemirror_mode": {
    "name": "ipython",
    "version": 2
   },
   "file_extension": ".py",
   "mimetype": "text/x-python",
   "name": "python",
   "nbconvert_exporter": "python",
   "pygments_lexer": "ipython2",
   "version": "2.7.6"
  }
 },
 "nbformat": 4,
 "nbformat_minor": 0
}